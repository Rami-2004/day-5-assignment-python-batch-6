{
 "cells": [
  {
   "cell_type": "code",
   "execution_count": 5,
   "metadata": {},
   "outputs": [
    {
     "name": "stdout",
     "output_type": "stream",
     "text": [
      "The original list 1 is : [10, 20, 40, 60, 70, 80]\n",
      "The original list 2 is : [5, 15, 25, 35, 45, 60]\n",
      "The combined sorted list is : [5, 10, 15, 20, 25, 35, 40, 45, 60, 60, 70, 80]\n"
     ]
    }
   ],
   "source": [
    "# Python3 code to demonstrate  \n",
    "# to combine two sorted list  \n",
    "# using sorted()  \n",
    "\n",
    "  \n",
    "# initializing lists \n",
    "\n",
    "test_list1 = [10,20,40,60,70,80] \n",
    "\n",
    "test_list2 = [5,15,25,35,45,60] \n",
    "\n",
    "  \n",
    "# printing original lists  \n",
    "\n",
    "print (\"The original list 1 is : \" + str(test_list1)) \n",
    "\n",
    "print (\"The original list 2 is : \" + str(test_list2)) \n",
    "\n",
    "  \n",
    "# using sorted() \n",
    "# to combine two sorted lists \n",
    "\n",
    "res = sorted(test_list1 + test_list2) \n",
    "\n",
    "  \n",
    "# printing result \n",
    "\n",
    "print (\"The combined sorted list is : \" + str(res)) \n"
   ]
  }
 ],
 "metadata": {
  "kernelspec": {
   "display_name": "Python 3",
   "language": "python",
   "name": "python3"
  },
  "language_info": {
   "codemirror_mode": {
    "name": "ipython",
    "version": 3
   },
   "file_extension": ".py",
   "mimetype": "text/x-python",
   "name": "python",
   "nbconvert_exporter": "python",
   "pygments_lexer": "ipython3",
   "version": "3.7.6"
  }
 },
 "nbformat": 4,
 "nbformat_minor": 4
}
