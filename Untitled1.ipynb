{
 "cells": [
  {
   "cell_type": "code",
   "execution_count": 4,
   "metadata": {},
   "outputs": [
    {
     "name": "stdout",
     "output_type": "stream",
     "text": [
      "The original list 1 is : [1, 5, 6, 9, 11]\n",
      "The original list 2 is : [3, 4, 7, 8, 10]\n",
      "The combined sorted list is : [1, 3, 4, 5, 6, 7, 8, 9, 10, 11]\n"
     ]
    }
   ],
   "source": [
    "# Python3 code to demonstrate  \n",
    "# to combine two sorted list  \n",
    "# using sorted()  \n",
    "\n",
    "  \n",
    "# initializing lists \n",
    "\n",
    "test_list1 = [1, 5, 6, 9, 11] \n",
    "\n",
    "test_list2 = [3, 4, 7, 8, 10] \n",
    "\n",
    "  \n",
    "# printing original lists  \n",
    "\n",
    "print (\"The original list 1 is : \" + str(test_list1)) \n",
    "\n",
    "print (\"The original list 2 is : \" + str(test_list2)) \n",
    "\n",
    "  \n",
    "# using sorted() \n",
    "# to combine two sorted lists \n",
    "\n",
    "res = sorted(test_list1 + test_list2) \n",
    "\n",
    "  \n",
    "# printing result \n",
    "\n",
    "print (\"The combined sorted list is : \" + str(res)) \n"
   ]
  }
 ],
 "metadata": {
  "kernelspec": {
   "display_name": "Python 3",
   "language": "python",
   "name": "python3"
  },
  "language_info": {
   "codemirror_mode": {
    "name": "ipython",
    "version": 3
   },
   "file_extension": ".py",
   "mimetype": "text/x-python",
   "name": "python",
   "nbconvert_exporter": "python",
   "pygments_lexer": "ipython3",
   "version": "3.7.6"
  }
 },
 "nbformat": 4,
 "nbformat_minor": 4
}
